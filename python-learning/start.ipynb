{
 "cells": [
  {
   "cell_type": "markdown",
   "id": "b69fec5d",
   "metadata": {},
   "source": [
    "# Simple python learning here"
   ]
  },
  {
   "cell_type": "code",
   "execution_count": 3,
   "id": "18e4e6bd",
   "metadata": {},
   "outputs": [
    {
     "name": "stdout",
     "output_type": "stream",
     "text": [
      "Hello\n",
      "The world is fine.\n",
      "Goodbye\n"
     ]
    }
   ],
   "source": [
    "print(\"Hello\")\n",
    "the_world_is_fine = True\n",
    "if the_world_is_fine:\n",
    "    print(\"The world is fine.\")\n",
    "else:\n",
    "    print(\"The world is not fine.\")\n",
    "print(\"Goodbye\")"
   ]
  },
  {
   "cell_type": "code",
   "execution_count": 4,
   "id": "18d5bb03",
   "metadata": {},
   "outputs": [
    {
     "name": "stdout",
     "output_type": "stream",
     "text": [
      "1\n",
      "# this is not the comment\n"
     ]
    }
   ],
   "source": [
    "# this is the first line of the comment \n",
    "spam = 1 # this is the second line of comment \n",
    "# this is the third line of comment\n",
    "text = \"# this is not the comment\"\n",
    "print(spam)\n",
    "print(text)"
   ]
  },
  {
   "cell_type": "markdown",
   "id": "3e929f95",
   "metadata": {},
   "source": [
    "# Using python as calculator"
   ]
  },
  {
   "cell_type": "code",
   "execution_count": 7,
   "id": "847e2689",
   "metadata": {},
   "outputs": [
    {
     "name": "stdout",
     "output_type": "stream",
     "text": [
      "4\n",
      "20\n",
      "5.0\n",
      "1.6\n",
      "5.666666666666667\n",
      "5\n",
      "2\n",
      "17\n",
      "25\n",
      "128\n"
     ]
    }
   ],
   "source": [
    "print(2 + 2) # op should be 4\n",
    "print(50 - 5*6) # op should be 20\n",
    "print((50 - 5*6) / 4) # op should be 5.0\n",
    "print(8 / 5) # op should be 1.6 , Division always returns a float\n",
    "print(17 / 3) # op should be 5.666666666666667\n",
    "print(17 // 3) # op should be 5 , Floor division discards the fractional part\n",
    "print(17 % 3) # op should be 2, the % operation return the reminder of the division\n",
    "print(5 * 3 + 2) # op should be 17\n",
    "print(5 ** 2) # op should be 25, the ** operator is used to calculate powers\n",
    "print(2 ** 7) # op should be 128, 2 to the power of 7\n"
   ]
  },
  {
   "cell_type": "code",
   "execution_count": 8,
   "id": "92030eec",
   "metadata": {},
   "outputs": [
    {
     "name": "stdout",
     "output_type": "stream",
     "text": [
      "900\n"
     ]
    }
   ],
   "source": [
    "width = 20\n",
    "height = 5 * 9\n",
    "print(width * height) # op should be 900, the result is 20 * 45 = 900"
   ]
  },
  {
   "cell_type": "code",
   "execution_count": null,
   "id": "4cf3796c",
   "metadata": {},
   "outputs": [
    {
     "name": "stdout",
     "output_type": "stream",
     "text": [
      "17.75\n",
      "\n"
     ]
    }
   ],
   "source": [
    "# There is full support for floating point; operators with mixed type operands convert the integer operand to floating poin\n",
    "print(5 * 3.75 - 1) # op should be 17.75, the result is 5 * 3.75 - 1 = 17.75"
   ]
  },
  {
   "cell_type": "markdown",
   "id": "38f79930",
   "metadata": {},
   "source": [
    "# Text"
   ]
  },
  {
   "cell_type": "code",
   "execution_count": 24,
   "id": "390fa75e",
   "metadata": {},
   "outputs": [
    {
     "name": "stdout",
     "output_type": "stream",
     "text": [
      "doesn't\n",
      "doesn't\n",
      "\"Yes,\" he said.\n",
      "\"Isn't,\" she said.\n",
      "\"Yes,\" they sayd\n",
      "First line.\n",
      "Second line.\n"
     ]
    }
   ],
   "source": [
    "print('doesn\\'t') # use a backslash to escape the single quote...\n",
    "print(\"doesn't\") # ...or use double quotes instead\n",
    "print('\"Yes,\" he said.') # use double quotes to avoid backslash\n",
    "print('\"Isn\\'t,\" she said.') # use a backslash to escape the single quote in double quotes\n",
    "print(\"\\\"Yes,\\\" they sayd\") # use double quotes to avoid backslash\n",
    "\n",
    "s = 'First line.\\nSecond line.'\n",
    "print(s)"
   ]
  },
  {
   "cell_type": "code",
   "execution_count": 6,
   "id": "057b28c2",
   "metadata": {},
   "outputs": [
    {
     "name": "stdout",
     "output_type": "stream",
     "text": [
      "defaultdict(<class 'int'>, {'song1': 4, 'song2': 2, 'song3': 10})\n",
      "[('song3', 10), ('song1', 4), ('song2', 2)]\n"
     ]
    }
   ],
   "source": [
    "from collections import defaultdict\n",
    "\n",
    "songs_count = defaultdict(int)\n",
    "\n",
    "songs_count['song1'] += 1\n",
    "songs_count['song2'] += 2\n",
    "songs_count['song1'] += 3\n",
    "songs_count['song3'] += 10\n",
    "\n",
    "print(songs_count)  # Output: defaultdict(<class 'int'>, {'song1': 4, 'song2': 2, 'song3': 4})\n",
    "sorted_songs = sorted(songs_count.items(), key=lambda x: x[1], reverse=True)\n",
    "print(sorted_songs)  # Output: [('song1', 4), ('song3', 4), ('song2', 2)]"
   ]
  }
 ],
 "metadata": {
  "kernelspec": {
   "display_name": "3.10.13",
   "language": "python",
   "name": "python3"
  },
  "language_info": {
   "codemirror_mode": {
    "name": "ipython",
    "version": 3
   },
   "file_extension": ".py",
   "mimetype": "text/x-python",
   "name": "python",
   "nbconvert_exporter": "python",
   "pygments_lexer": "ipython3",
   "version": "3.10.13"
  }
 },
 "nbformat": 4,
 "nbformat_minor": 5
}
