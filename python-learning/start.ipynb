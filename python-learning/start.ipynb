{
 "cells": [
  {
   "cell_type": "markdown",
   "id": "b69fec5d",
   "metadata": {},
   "source": [
    "# Simple python learning here\n",
    "- https://docs.python.org/3/tutorial/"
   ]
  },
  {
   "cell_type": "code",
   "execution_count": 3,
   "id": "18e4e6bd",
   "metadata": {},
   "outputs": [
    {
     "name": "stdout",
     "output_type": "stream",
     "text": [
      "Hello\n",
      "The world is fine.\n",
      "Goodbye\n"
     ]
    }
   ],
   "source": [
    "print(\"Hello\")\n",
    "the_world_is_fine = True\n",
    "if the_world_is_fine:\n",
    "    print(\"The world is fine.\")\n",
    "else:\n",
    "    print(\"The world is not fine.\")\n",
    "print(\"Goodbye\")"
   ]
  },
  {
   "cell_type": "code",
   "execution_count": 4,
   "id": "18d5bb03",
   "metadata": {},
   "outputs": [
    {
     "name": "stdout",
     "output_type": "stream",
     "text": [
      "1\n",
      "# this is not the comment\n"
     ]
    }
   ],
   "source": [
    "# this is the first line of the comment \n",
    "spam = 1 # this is the second line of comment \n",
    "# this is the third line of comment\n",
    "text = \"# this is not the comment\"\n",
    "print(spam)\n",
    "print(text)"
   ]
  },
  {
   "cell_type": "markdown",
   "id": "3e929f95",
   "metadata": {},
   "source": [
    "# Using python as calculator"
   ]
  },
  {
   "cell_type": "code",
   "execution_count": 7,
   "id": "847e2689",
   "metadata": {},
   "outputs": [
    {
     "name": "stdout",
     "output_type": "stream",
     "text": [
      "4\n",
      "20\n",
      "5.0\n",
      "1.6\n",
      "5.666666666666667\n",
      "5\n",
      "2\n",
      "17\n",
      "25\n",
      "128\n"
     ]
    }
   ],
   "source": [
    "print(2 + 2) # op should be 4\n",
    "print(50 - 5*6) # op should be 20\n",
    "print((50 - 5*6) / 4) # op should be 5.0\n",
    "print(8 / 5) # op should be 1.6 , Division always returns a float\n",
    "print(17 / 3) # op should be 5.666666666666667\n",
    "print(17 // 3) # op should be 5 , Floor division discards the fractional part\n",
    "print(17 % 3) # op should be 2, the % operation return the reminder of the division\n",
    "print(5 * 3 + 2) # op should be 17\n",
    "print(5 ** 2) # op should be 25, the ** operator is used to calculate powers\n",
    "print(2 ** 7) # op should be 128, 2 to the power of 7\n"
   ]
  },
  {
   "cell_type": "code",
   "execution_count": 8,
   "id": "92030eec",
   "metadata": {},
   "outputs": [
    {
     "name": "stdout",
     "output_type": "stream",
     "text": [
      "900\n"
     ]
    }
   ],
   "source": [
    "width = 20\n",
    "height = 5 * 9\n",
    "print(width * height) # op should be 900, the result is 20 * 45 = 900"
   ]
  },
  {
   "cell_type": "code",
   "execution_count": null,
   "id": "4cf3796c",
   "metadata": {},
   "outputs": [
    {
     "name": "stdout",
     "output_type": "stream",
     "text": [
      "17.75\n",
      "\n"
     ]
    }
   ],
   "source": [
    "# There is full support for floating point; operators with mixed type operands convert the integer operand to floating poin\n",
    "print(5 * 3.75 - 1) # op should be 17.75, the result is 5 * 3.75 - 1 = 17.75"
   ]
  },
  {
   "cell_type": "markdown",
   "id": "38f79930",
   "metadata": {},
   "source": [
    "# Text"
   ]
  },
  {
   "cell_type": "code",
   "execution_count": 24,
   "id": "390fa75e",
   "metadata": {},
   "outputs": [
    {
     "name": "stdout",
     "output_type": "stream",
     "text": [
      "doesn't\n",
      "doesn't\n",
      "\"Yes,\" he said.\n",
      "\"Isn't,\" she said.\n",
      "\"Yes,\" they sayd\n",
      "First line.\n",
      "Second line.\n"
     ]
    }
   ],
   "source": [
    "print('doesn\\'t') # use a backslash to escape the single quote...\n",
    "print(\"doesn't\") # ...or use double quotes instead\n",
    "print('\"Yes,\" he said.') # use double quotes to avoid backslash\n",
    "print('\"Isn\\'t,\" she said.') # use a backslash to escape the single quote in double quotes\n",
    "print(\"\\\"Yes,\\\" they sayd\") # use double quotes to avoid backslash\n",
    "\n",
    "s = 'First line.\\nSecond line.'\n",
    "print(s)"
   ]
  },
  {
   "cell_type": "code",
   "execution_count": 6,
   "id": "057b28c2",
   "metadata": {},
   "outputs": [
    {
     "name": "stdout",
     "output_type": "stream",
     "text": [
      "defaultdict(<class 'int'>, {'song1': 4, 'song2': 2, 'song3': 10})\n",
      "[('song3', 10), ('song1', 4), ('song2', 2)]\n"
     ]
    }
   ],
   "source": [
    "from collections import defaultdict\n",
    "\n",
    "songs_count = defaultdict(int)\n",
    "\n",
    "songs_count['song1'] += 1\n",
    "songs_count['song2'] += 2\n",
    "songs_count['song1'] += 3\n",
    "songs_count['song3'] += 10\n",
    "\n",
    "print(songs_count)  # Output: defaultdict(<class 'int'>, {'song1': 4, 'song2': 2, 'song3': 4})\n",
    "sorted_songs = sorted(songs_count.items(), key=lambda x: x[1], reverse=True)\n",
    "print(sorted_songs)  # Output: [('song1', 4), ('song3', 4), ('song2', 2)]"
   ]
  },
  {
   "cell_type": "markdown",
   "id": "ac6a4dfd",
   "metadata": {},
   "source": [
    "# More control flow statement in python"
   ]
  },
  {
   "cell_type": "code",
   "execution_count": null,
   "id": "a9d49deb",
   "metadata": {},
   "outputs": [
    {
     "name": "stdout",
     "output_type": "stream",
     "text": [
      "Negative changed to zero\n"
     ]
    }
   ],
   "source": [
    "# Demo of how to use if-elif-else statements in python\n",
    "x = int(input(\"Enter a number: \"))\n",
    "if x < 0:\n",
    "    x = 0\n",
    "    print(\"Negative changed to zero\")\n",
    "elif x == 0:\n",
    "    print(\"Zero\")\n",
    "else:\n",
    "    print(\"More than zero\")"
   ]
  },
  {
   "cell_type": "code",
   "execution_count": null,
   "id": "340bd3df",
   "metadata": {},
   "outputs": [
    {
     "name": "stdout",
     "output_type": "stream",
     "text": [
      "cat 3\n",
      "window 6\n",
      "defenestrate 12\n",
      "Hans is active\n",
      "John is inactive\n",
      "Alice is active\n",
      "{'Hans': 'active', 'Alice': 'active'}\n",
      "0\n",
      "1\n",
      "2\n",
      "3\n",
      "4\n",
      "[0, 1, 2, 3, 4]\n",
      "[5, 6, 7, 8, 9]\n",
      "[0, 2, 4, 6, 8]\n",
      "0 Mary\n",
      "1 had\n",
      "2 a\n",
      "3 little\n",
      "4 lamb\n",
      "0 Mary\n",
      "1 had\n",
      "2 a\n",
      "3 little\n",
      "4 lamb\n",
      "6\n"
     ]
    }
   ],
   "source": [
    "# Demo of hpw to user for loop in python\n",
    "words = ['cat', 'window', 'defenestrate']\n",
    "for w in words:\n",
    "    print(w, len(w))  # Output: each word and its length\n",
    "\n",
    "# Create a sample collections \n",
    "users = { 'Hans': 'active', 'John': 'inactive', 'Alice': 'active' }\n",
    "\n",
    "for user, status in users.copy().items():\n",
    "    if status == 'inactive':\n",
    "        print(f\"{user} is {status}\")\n",
    "    else:\n",
    "        print(f\"{user} is {status}\")  # Output: active users and their status\n",
    "\n",
    "# Strategy:  Create a new collection\n",
    "active_users = {}\n",
    "\n",
    "for user, status in users.items():\n",
    "    if status == 'active':\n",
    "        active_users[user] = status\n",
    "print(active_users)  # Output: {'Hans': 'active', 'Alice': 'active'}\n",
    "\n",
    "# range function in pything\n",
    "\n",
    "for i in range(5):\n",
    "    print(i)  # Output: 0, 1, 2, 3, 4\n",
    "\n",
    "print(list(range(5)))  # Output: [0, 1, 2, 3, 4]\n",
    "print(list(range(5, 10)))  # Output: [5, 6, 7, 8, 9]\n",
    "print(list(range(0, 10, 2)))  # Output: [0, 2, 4, 6, 8]\n",
    "\n",
    "# To iterate over the indices of a sequence, you can combine range() and len() as follows:\n",
    "a = [\"Mary\", \"had\", \"a\", \"little\", \"lamb\"]\n",
    "for i in range(len(a)):\n",
    "    print(i, a[i])  # Output: index and corresponding element in the list\n",
    "    \n",
    "# how to use enumerate function in python\n",
    "for i, v in enumerate(a):\n",
    "    print(i, v)  # Output: index and corresponding element in the list\n",
    "\n",
    "print(sum(range(4)))  # Output: 6 (0 + 1 + 2 + 3)\n",
    "\n",
    "# in for loop you can use brak and continue statement as well\n"
   ]
  },
  {
   "cell_type": "code",
   "execution_count": 18,
   "id": "48289892",
   "metadata": {},
   "outputs": [
    {
     "name": "stdout",
     "output_type": "stream",
     "text": [
      "You selected option 1\n",
      "You selected option 2\n"
     ]
    }
   ],
   "source": [
    "# switch case statement in python\n",
    "def switch_case_example(value):\n",
    "    match value:\n",
    "        case 1:\n",
    "            return \"You selected option 1\"\n",
    "        case 2:\n",
    "            return \"You selected option 2\"\n",
    "        case 3:\n",
    "            return \"You selected option 3\"\n",
    "        case _:\n",
    "            return \"Invalid option\"\n",
    "\n",
    "# Example usage\n",
    "print(switch_case_example(1))  # Output: You selected option 1\n",
    "print(switch_case_example(2))  # Output: You selected option 2"
   ]
  },
  {
   "cell_type": "code",
   "execution_count": 22,
   "id": "ef10ac31",
   "metadata": {},
   "outputs": [
    {
     "name": "stdout",
     "output_type": "stream",
     "text": [
      "Point is at the origin\n",
      "Point is on the y-axis at y=5\n",
      "Point is on the x-axis at x=3\n",
      "Point is at (2, 3)\n"
     ]
    }
   ],
   "source": [
    "class Point:\n",
    "    def __init__(self, x, y):\n",
    "        self.x = x\n",
    "        self.y = y\n",
    "\n",
    "def where_is(point):\n",
    "    match point:\n",
    "        case Point(x=0, y=0):\n",
    "            print(\"Point is at the origin\")\n",
    "            return\n",
    "        case Point(x=0, y=y):\n",
    "            print(f\"Point is on the y-axis at y={y}\")\n",
    "            return\n",
    "        case Point(x=x, y=0):\n",
    "            print(f\"Point is on the x-axis at x={x}\")\n",
    "            return\n",
    "        case Point(x=x, y=y):\n",
    "            print(f\"Point is at ({x}, {y})\")\n",
    "            return\n",
    "\n",
    "# Example usage\n",
    "p1 = Point(0, 0)\n",
    "p2 = Point(0, 5)\n",
    "p3 = Point(3, 0)\n",
    "p4 = Point(2, 3)\n",
    "\n",
    "where_is(p1)  # Output: Point is at the origin\n",
    "where_is(p2)  # Output: Point is on the y-axis at y=5\n",
    "where_is(p3)  # Output: Point is on the x-axis at x=3\n",
    "where_is(p4)  # Output: Point is at (2, 3)"
   ]
  },
  {
   "cell_type": "code",
   "execution_count": 26,
   "id": "6e7242f2",
   "metadata": {},
   "outputs": [
    {
     "name": "stdout",
     "output_type": "stream",
     "text": [
      "You selected red\n"
     ]
    }
   ],
   "source": [
    "from enum import Enum\n",
    "\n",
    "class Color(Enum):\n",
    "    RED = 'RED'\n",
    "    GREEN = 'GREEN'\n",
    "    BLUE = 'BLUE'\n",
    "\n",
    "color = Color(input(\"Enter a color (red, green, blue): \").upper())\n",
    "match color:\n",
    "    case Color.RED:\n",
    "        print(\"You selected red\")\n",
    "    case Color.GREEN:\n",
    "        print(\"You selected green\")\n",
    "    case Color.BLUE:\n",
    "        print(\"You selected blue\")\n",
    "\n"
   ]
  },
  {
   "cell_type": "code",
   "execution_count": 27,
   "id": "5dcfd271",
   "metadata": {},
   "outputs": [
    {
     "name": "stdout",
     "output_type": "stream",
     "text": [
      "0 1 1 2 3 5 8 13 21 34 55 89 144 233 377 610 987 1597 \n"
     ]
    }
   ],
   "source": [
    "# Defining the function \n",
    "def fib(n):\n",
    "    \"\"\"return the nth Fibonacci number\"\"\"\n",
    "    a, b = 0 ,1\n",
    "    while a < n:\n",
    "        print(a, end=' ')\n",
    "        a, b = b, a + b\n",
    "    print()\n",
    "\n",
    "fib(2000)"
   ]
  },
  {
   "cell_type": "markdown",
   "id": "34856bb7",
   "metadata": {},
   "source": [
    "# how to call functional more dynamic\n",
    "\n",
    "- This line means:\n",
    "\n",
    "- kind: a regular positional argument (must be provided).\n",
    "\n",
    "- *arguments: collects additional positional arguments into a **tuple**.\n",
    "\n",
    "- **keywords: collects additional keyword arguments into a **dictionary**."
   ]
  },
  {
   "cell_type": "code",
   "execution_count": 28,
   "id": "20e254e7",
   "metadata": {},
   "outputs": [
    {
     "name": "stdout",
     "output_type": "stream",
     "text": [
      "-- Do you have any Cheddar? --\n",
      "-- I'm sorry, we're all out of Cheddar. --\n",
      "It's very strong.\n",
      "It's very tasty.\n",
      "----------------------------------------\n",
      "shopkeeper: John\n",
      "client: Alice\n",
      "price: 42.0\n"
     ]
    }
   ],
   "source": [
    "def cheeseshop(kind, *arguments, **keywords):\n",
    "    print(f\"-- Do you have any {kind}? --\")\n",
    "    print(f\"-- I'm sorry, we're all out of {kind}. --\")\n",
    "    for arg in arguments:\n",
    "        print(arg)\n",
    "    print(\"-\" * 40)\n",
    "    for kw in keywords:\n",
    "        print(f\"{kw}: {keywords[kw]}\")\n",
    "\n",
    "\n",
    "cheeseshop(\"Cheddar\", \"It's very strong.\", \"It's very tasty.\", shopkeeper=\"John\", client=\"Alice\", price=42.0)"
   ]
  },
  {
   "cell_type": "markdown",
   "id": "8d9aba33",
   "metadata": {},
   "source": [
    "# More on list in Python\n"
   ]
  },
  {
   "cell_type": "code",
   "execution_count": null,
   "id": "918040a7",
   "metadata": {},
   "outputs": [
    {
     "name": "stdout",
     "output_type": "stream",
     "text": [
      "['orange', 'apple', 'banana', 'grape', 'orange']\n",
      "1\n",
      "2\n",
      "5\n",
      "0\n",
      "4\n",
      "None\n",
      "['orange', 'grape', 'banana', 'apple', 'orange']\n",
      "['orange', 'grape', 'banana', 'apple', 'orange', 'kiwi']\n",
      "['apple', 'banana', 'grape', 'kiwi', 'orange', 'orange']\n",
      "['orange', 'orange', 'kiwi', 'grape', 'banana', 'apple']\n",
      "apple\n"
     ]
    }
   ],
   "source": [
    "fruites = [\"orange\", \"apple\", \"banana\", \"grape\", \"orange\"]\n",
    "print(fruites)  # Output: ['orange', 'apple', 'banana', '\n",
    "print(fruites.count(\"apple\"))  # Output: 1, count the number of occurrences of \"apple\"\n",
    "print(fruites.index(\"banana\"))  # Output: 2, find the index of\n",
    "print(len(fruites))  # Output: 4, get the length of the list\n",
    "\n",
    "print(fruites.count(\"watermelon\"))  # Output: 0, count the number of occurrences of \"watermelon\"\n",
    "\n",
    "print(fruites.index(\"orange\", 1)) # Output: 4, find the index of \"orange\" starting from index 1\n",
    "\n",
    "print(fruites.reverse())  # Output: None, reverse the list in place\n",
    "# print the output of the reversed list\n",
    "print(fruites)  # Output: ['orange', 'grape', 'banana', 'apple', 'orange']\n",
    "\n",
    "fruites.append(\"kiwi\")  # Add \"Kiwi\" to the end of the list\n",
    "print(fruites)  # Output: ['orange', 'grape', 'banana', 'apple', 'orange', 'Kiwi']\n",
    "\n",
    "fruites.sort()\n",
    "print(fruites)  # Output: ['apple', 'banana', 'grape', 'kiwi', 'orange', 'orange'], sort the list in place\n",
    "fruites.sort(reverse=True)\n",
    "print(fruites)  # Output: ['orange', 'orange', 'kiwi', 'grape', 'banana', 'apple'], sort the list in reverse order\n",
    "\n",
    "# pop the element from the end of the list\n",
    "last_fruit = fruites.pop()\n",
    "print(last_fruit)  # Output: apple, the last element is popped"
   ]
  },
  {
   "cell_type": "code",
   "execution_count": 40,
   "id": "adac9350",
   "metadata": {},
   "outputs": [
    {
     "name": "stdout",
     "output_type": "stream",
     "text": [
      "[3, 4, 5, 6]\n",
      "[3, 4, 5]\n"
     ]
    }
   ],
   "source": [
    "# now using list as stack \n",
    "stack = [3, 4, 5]\n",
    "stack.append(6)  # Add 6 to the end of the stack\n",
    "print(stack)  # Output: [3, 4, 5, 6]\n",
    "\n",
    "stack.pop() # Remove the last element from the stack\n",
    "print(stack)  # Output: [3, 4, 5], the last element is popped"
   ]
  },
  {
   "cell_type": "code",
   "execution_count": 42,
   "id": "d0ab6dfb",
   "metadata": {},
   "outputs": [
    {
     "name": "stdout",
     "output_type": "stream",
     "text": [
      "deque(['Eric', 'John', 'Michael', 'Terry'])\n",
      "deque(['John', 'Michael', 'Terry'])\n"
     ]
    }
   ],
   "source": [
    "# using list as queue\n",
    "from collections import deque\n",
    "queue = deque([\"Eric\", \"John\", \"Michael\"])\n",
    "queue.append(\"Terry\")  # Add Terry to the end of the queue\n",
    "print(queue)  # Output: deque(['Eric', 'John', 'Michael', 'Terry'])\n",
    "\n",
    "queue.popleft()  # Remove the first element from the queue\n",
    "print(queue)  # Output: deque(['John', 'Michael', 'Terry']), the first element is popped"
   ]
  },
  {
   "cell_type": "code",
   "execution_count": 46,
   "id": "25fb19ef",
   "metadata": {},
   "outputs": [
    {
     "name": "stdout",
     "output_type": "stream",
     "text": [
      "[0, 1, 4, 9, 16, 25, 36, 49, 64, 81]\n",
      "[0, 1, 4, 9, 16, 25, 36, 49, 64, 81]\n",
      "[0, 1, 4, 9, 16, 25, 36, 49, 64, 81]\n",
      "[(1, 3), (1, 4), (2, 3), (2, 1), (2, 4), (3, 1), (3, 4)]\n",
      "[(1, 3), (1, 4), (2, 3), (2, 1), (2, 4), (3, 1), (3, 4)]\n"
     ]
    }
   ],
   "source": [
    "# List comprehensions\n",
    "squares = []\n",
    "for x in range(10):\n",
    "    squares.append(x**2)\n",
    "\n",
    "print(squares)  # Output: [0, 1, 4, 9, 16, 25, 36, 49, 64, 81]\n",
    "\n",
    "# List comprehensions in a single line\n",
    "single_squares = list(map(lambda x: x**2, range(10)))\n",
    "print(single_squares)  # Output: [0, 1, 4,\n",
    "\n",
    "# or in single line\n",
    "one_single_line_square = [x**2 for x in range(10)]\n",
    "print(one_single_line_square)  # Output: [0, 1, 4, 9, 16, 25, 36, 49, 64, 81]\n",
    "\n",
    "coms = []\n",
    "for x in [1,2,3]:\n",
    "    for y in [3,1,4]:\n",
    "        if x != y:\n",
    "            coms.append((x, y))\n",
    "\n",
    "print(coms)  #[(1, 3), (1, 4), (2, 3), (2, 1), (2, 4), (3, 1), (3, 4)]\n",
    "\n",
    "# in one line \n",
    "coms_one_line = [(x, y) for x in [1, 2, 3] for y in [3, 1, 4] if x != y]\n",
    "print(coms_one_line)  # Output: [(1, 3), (1, 4), (2, 3), (2, 1), (2, 4), (3, 1), (3, 4)]\n"
   ]
  },
  {
   "cell_type": "code",
   "execution_count": 50,
   "id": "d8c6786f",
   "metadata": {},
   "outputs": [
    {
     "name": "stdout",
     "output_type": "stream",
     "text": [
      "[-8, -4, 0, 4, 8]\n",
      "[0, 2, 4]\n",
      "[4, 2, 0, 2, 4]\n",
      "['banana', 'loganberry', 'passion fruit']\n",
      "[(0, 0), (1, 1), (2, 4), (3, 9), (4, 16), (5, 25)]\n",
      "[1, 2, 3, 4, 5, 6, 7, 8, 9]\n"
     ]
    }
   ],
   "source": [
    "vec = [-4, -2, 0, 2, 4]\n",
    "print([x * 2 for x in vec])  # Output: [-8, -4, 0, 4, 8]\n",
    "print([x for x in vec if x >= 0])  # Output: [0, 2, 4]\n",
    "print([ abs(x) for x in vec])  # Output: [4, 2, 0, 2, 4]\n",
    "freshfruit = ['  banana', '  loganberry ', 'passion fruit  ']\n",
    "print([x.strip() for x in freshfruit])  # Output: ['banana', 'loganberry', 'passion fruit']\n",
    "print([(x, x**2) for x in range(6)]) # Output: [(0, 0), (1, 1), (2, 4), (3, 9), (4, 16), (5, 25)]\n",
    "\n",
    "vec = [[1,2,3], [4,5,6], [7,8,9]]\n",
    "print([num for x in vec for num in x]) # Output: [1, 2, 3, 4, 5, 6, 7, 8, 9]\n"
   ]
  },
  {
   "cell_type": "code",
   "execution_count": 52,
   "id": "f319da1d",
   "metadata": {},
   "outputs": [
    {
     "name": "stdout",
     "output_type": "stream",
     "text": [
      "12345\n",
      "(12345, 54321, 'hello!')\n",
      "(11111, 54321, 'hello!')\n"
     ]
    }
   ],
   "source": [
    "# tuples \n",
    "t = 12345, 54321, 'hello!'\n",
    "print(t[0])  # Output: 12345\n",
    "print(t)  # Output: (12345, 54321, 'hello!')\n",
    "# Tupes are always immutable, you cannot change the value of the tuple\n",
    "# t[0] = 11111  # This will raise a TypeError: 'tuple' object does not support item assignment\n",
    "# However, you can create a new tuple with the desired values\n",
    "t = (11111, 54321, 'hello!')\n",
    "print(t)  # Output: (11111, 54321, 'hello!')"
   ]
  },
  {
   "cell_type": "code",
   "execution_count": null,
   "id": "2becb0c1",
   "metadata": {},
   "outputs": [
    {
     "name": "stdout",
     "output_type": "stream",
     "text": [
      "{'pear', 'orange', 'apple', 'banana'}\n",
      "True\n",
      "False\n",
      "{'r', 'a', 'b', 'd', 'c'}\n",
      "{'m', 'a', 'z', 'c', 'l'}\n",
      "{'b', 'r', 'd'}\n",
      "{'m', 'a', 'r', 'z', 'b', 'd', 'c', 'l'}\n",
      "{'a', 'c'}\n",
      "{'b', 'd', 'm', 'r', 'l', 'z'}\n",
      "{'r', 'd'}\n"
     ]
    }
   ],
   "source": [
    "# sets in python\n",
    "basket = {'apple', 'orange', 'apple', 'pear', 'orange', 'banana'}\n",
    "print(basket)  # Output: {'banana', 'orange', 'pear', 'apple'}\n",
    "# Note: Sets are unordered collections of unique elements, so duplicates are removed.\n",
    "\n",
    "print('orange' in basket)  # Output: True, check if 'orange' is in the set\n",
    "print('crabgrass' in basket)  # Output: False, check if 'crabgrass' is in the set\n",
    "\n",
    "a = set('abracadabra')\n",
    "b = set('alacazam')\n",
    "print(a)  # Output: {'a', 'b', 'c', 'd', 'r'}\n",
    "print(b)  # Output: {'a', 'c', 'l', 'm', 'z'}\n",
    "\n",
    "print(a - b)  # Output: {'b', 'd', 'r'}, elements in a but not in b\n",
    "print(a | b)  # Output: {'a', 'b', 'c', 'd', 'l', 'm', 'r', 'z'}, elements in a or b or both\n",
    "print(a & b)  # Output: {'a', 'c'}, elements in both a and b\n",
    "print(a ^ b)  # Output: {'b', 'd', 'l', 'm', 'r', 'z'}, elements in a or b but not both\n",
    "\n",
    "# Similarly to list comprehensions, set comprehensions are also supported:\n",
    "c = { x for x in 'abracadabra' if x not in 'abc'}\n",
    "print(c)  # Output: {'d', 'r'}"
   ]
  },
  {
   "cell_type": "code",
   "execution_count": 68,
   "id": "57d4e854",
   "metadata": {},
   "outputs": [
    {
     "name": "stdout",
     "output_type": "stream",
     "text": [
      "{'jack': 4098, 'sape': 4139}\n",
      "4098\n",
      "{'jack': 4098, 'sape': 4139, 'guido': 4127}\n",
      "dict_keys(['jack', 'sape', 'guido'])\n",
      "dict_values([4098, 4139, 4127])\n",
      "dict_items([('jack', 4098), ('sape', 4139), ('guido', 4127)])\n",
      "[('jack', 4098), ('sape', 4139), ('guido', 4127)]\n",
      "[('jack', 4098), ('guido', 4127), ('sape', 4139)]\n",
      "['guido', 'jack', 'sape']\n",
      "{'jack': 4098, 'sape': 4139, 'guido': 4127}\n",
      "False\n",
      "True\n"
     ]
    }
   ],
   "source": [
    "# Dictionaries in python\n",
    "tel = {'jack': 4098, 'sape': 4139}\n",
    "print(tel) # Output: {'jack': 4098, 'sape': 4139}, a dictionary with key-value pairs\n",
    "print(tel['jack'])  # Output: 4098, access the value associated with the key 'jack'\n",
    "tel['guido'] = 4127  # Add a new key-value pair\n",
    "print(tel)  # Output: {'jack': 4098, 'sape': 4139, 'guido': 4127}\n",
    "\n",
    "print(tel.keys())  # Output: dict_keys(['jack', 'sape', 'guido']), get the keys of the dictionary\n",
    "print(tel.values())  # Output: dict_values([4098, 4139, 4127]), get the values of the dictionary\n",
    "print(tel.items())  # Output: dict_items([('jack', 4098), ('sape', 4139), ('guido', 4127)]), get the key-value pairs of the dictionary\n",
    "\n",
    "# if you want to convert this dictionary to a list of tuples, you can use the list() function\n",
    "print(list(tel.items()))  # Output: [('jack', 4098), ('sape', 4139), ('guido', 4127)]\n",
    "\n",
    "sorted_items = sorted(tel.items(), key=lambda x: x[1], reverse=False)\n",
    "print(sorted_items)  # Output: [('jack', 4098), ('guido', 4127), ('sape', 4139)], sort the items by value in descending order\n",
    "\n",
    "print(sorted(tel)) # Output: ['guido', 'jack', 'sape'], sort the keys of the dictionary\n",
    "print(tel)\n",
    "\n",
    "print('abc' in tel)  # Output: False, check if 'abc' is a key in the dictionary\n",
    "print('jack' in tel)  # Output: True, check if 'jack' is a key in the dictionary"
   ]
  },
  {
   "cell_type": "code",
   "execution_count": 69,
   "id": "7ac21e88",
   "metadata": {},
   "outputs": [
    {
     "name": "stdout",
     "output_type": "stream",
     "text": [
      "{'sape': 4139, 'guido': 4127, 'jack': 4098}\n",
      "{2: 4, 4: 16, 6: 36}\n"
     ]
    }
   ],
   "source": [
    "# dict() constructor can also be used to create dictionaries\n",
    "dict_from_list = dict([('sape', 4139), ('guido', 4127), ('jack', 4098)])\n",
    "print(dict_from_list)  # Output: {'sape': 4139, 'guido': 4127, 'jack': 4098}\n",
    "\n",
    "# In addition dict cimprehensions are also supported:\n",
    "dict_comp = {x: x**2 for x in (2, 4, 6)}\n",
    "print(dict_comp)  # Output: {2: 4, 4: 16, 6: 36}"
   ]
  },
  {
   "cell_type": "code",
   "execution_count": 78,
   "id": "991143e9",
   "metadata": {},
   "outputs": [
    {
     "name": "stdout",
     "output_type": "stream",
     "text": [
      "key=gallahad && value=the pure\n",
      "key=robin && value=the brave\n",
      "key=lancelot && value=the bold\n",
      "index=0 && key=gallahad && value=the pure\n",
      "index=1 && key=robin && value=the brave\n",
      "index=2 && key=lancelot && value=the bold\n",
      "What is your name?  It is lancelot.\n",
      "What is your quest?  It is the holy grail.\n",
      "What is your favorite color?  It is blue.\n",
      "9 8 7 6 5 4 3 2 1 0 \n",
      "apple apple banana orange orange pear \n",
      "apple banana orange pear "
     ]
    }
   ],
   "source": [
    "# Looping Techniques in dictionaries\n",
    "knights = {'gallahad': 'the pure', 'robin': 'the brave', 'lancelot': 'the bold'}\n",
    "for k, v in knights.items():\n",
    "    print(f\"key={k} && value={v}\")  # Output: gallahad is the pure, robin is the brave, lancelot is the bold\n",
    "    \n",
    "\n",
    "for i, v in enumerate(knights.items()):\n",
    "    print(f\"index={i} && key={v[0]} && value={v[1]}\")  # Output: index and key-value pairs\n",
    "    \n",
    "# To loop over two or more sequences at the same time, the entries can be paired with the zip() function.\n",
    "questions = ['name', 'quest', 'favorite color']\n",
    "answers = ['lancelot', 'the holy grail', 'blue']\n",
    "\n",
    "for q,a in zip(questions, answers):\n",
    "    print('What is your {0}?  It is {1}.'.format(q, a))\n",
    "    \n",
    "# To loop over a sequence in reverse, first specify the sequence in a forward direction and then call the reversed() function.\n",
    "for i in reversed(range(10)):\n",
    "    print(i, end=' ')  # Output: 9 8 7 6 5 4 3 2 1 0\n",
    "\n",
    "# To loop over a sequence in sorted order, use the sorted() function which returns a new sorted list while leaving the source unaltered.\n",
    "basket = ['apple', 'orange', 'apple', 'pear', 'orange', 'banana']\n",
    "print()\n",
    "for f in sorted(basket):\n",
    "    print(f, end=' ')  # Output: apple apple banana orange orange pear\n",
    "\n",
    "# Using set() on a sequence eliminates duplicate elements. The use of sorted() in combination with set() over a sequence is an idiomatic way to loop over unique elements of the sequence in sorted order.\n",
    "print()\n",
    "for f in sorted(set(basket)):\n",
    "    print(f, end=' ')  # Output: apple banana orange pear"
   ]
  }
 ],
 "metadata": {
  "kernelspec": {
   "display_name": "3.10.13",
   "language": "python",
   "name": "python3"
  },
  "language_info": {
   "codemirror_mode": {
    "name": "ipython",
    "version": 3
   },
   "file_extension": ".py",
   "mimetype": "text/x-python",
   "name": "python",
   "nbconvert_exporter": "python",
   "pygments_lexer": "ipython3",
   "version": "3.10.13"
  }
 },
 "nbformat": 4,
 "nbformat_minor": 5
}
