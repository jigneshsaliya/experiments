{
 "cells": [
  {
   "cell_type": "markdown",
   "id": "7a6e6719",
   "metadata": {},
   "source": [
    "# Python Array concept"
   ]
  },
  {
   "cell_type": "code",
   "execution_count": 16,
   "id": "ade967ea",
   "metadata": {},
   "outputs": [
    {
     "name": "stdout",
     "output_type": "stream",
     "text": [
      "[10, 20, 30, 40, 50]\n",
      "10\n",
      "[10, 20, 30, 40, 50, 60]\n",
      "6\n",
      "[100, 10, 20, 30, 40, 50, 60]\n",
      "[10, 20, 30, 40, 50, 60, 100]\n",
      "7\n"
     ]
    }
   ],
   "source": [
    "arr = [10, 20, 30, 40, 50]\n",
    "print(arr)\n",
    "print(arr[0])  # Output: 10\n",
    "arr.append(60)  # Add an element\n",
    "print(arr)  # Output: [10, 20, 30, 40, 50, 60]\n",
    "print(len(arr))  # Output: 6\n",
    "\n",
    "# arr[1] -> accessing the second element\n",
    "# arr[1] = 25  # Update the second element\n",
    "# print(arr)  # Output: [10, 25, 30, 40, 50, 60]\n",
    "# arr.append(70)  # Add another element\n",
    "# arr.insert(2, 35)  # Insert 35 at index 2\n",
    "# arr.remove(40)  # Remove the element 40\n",
    "# arr.pop() # Remove the last element\n",
    "# arr.pop(0) # Remove the first element\n",
    "# for x in arr: Loop through the array\n",
    "# arr[1:3] # Slicing the array to get elements from index 1 to 2 remember that the end index is exclusive\n",
    "# arr.sort()  # Sort the array in ascending order\n",
    "# arr.reverse()  # Reverse the array\n",
    "arr.insert(0, 100)\n",
    "print(arr)  # Output: [100, 10, 20, 30, 40, 50, 60]\n",
    "arr.sort()\n",
    "print(arr)\n",
    "# to find the length of the array \n",
    "print(len(arr))  # Output: 7"
   ]
  },
  {
   "cell_type": "markdown",
   "id": "66699dd5",
   "metadata": {},
   "source": [
    "# Lets learn more about string in python"
   ]
  },
  {
   "cell_type": "code",
   "execution_count": null,
   "id": "44f19c74",
   "metadata": {},
   "outputs": [
    {
     "name": "stdout",
     "output_type": "stream",
     "text": [
      "Hello, World!\n",
      "H\n",
      "World\n",
      "hello, world!\n",
      "HELLO, WORLD!\n",
      "Hello, Python!\n",
      "['Hello', 'World!']\n",
      "7\n",
      "7\n",
      "2\n",
      "True\n",
      "True\n",
      "Hello, World!\n",
      "False\n",
      "False\n",
      "False\n",
      "False\n",
      "False\n",
      "Hello, World!\n",
      "Hello, world!\n",
      "['Hello,', 'World!']\n",
      "PythonHello, World!isHello, World!awesome\n",
      "True\n",
      "t\n",
      "e\n",
      "s\n",
      "t\n",
      " \n",
      "s\n",
      "t\n",
      "r\n",
      "i\n",
      "n\n",
      "g\n"
     ]
    }
   ],
   "source": [
    "s = \"Hello, World!\"\n",
    "print(s)\n",
    "print(s[0])  # Output: H\n",
    "print(s[7:12])  # Output: World\n",
    "print(s.lower())  # Output: hello, world!\n",
    "print(s.upper())  # Output: HELLO, WORLD!\n",
    "print(s.replace(\"World\", \"Python\"))  # Output: Hello, Python!\n",
    "print(s.split(\", \"))  # Output: ['Hello', 'World!']\n",
    "print(s.find(\"World\"))  # Output: 7\n",
    "print(s.index(\"World\"))  # Output: 7\n",
    "print(s.count(\"o\"))  # Output: 2\n",
    "print(s.startswith(\"Hello\"))  # Output: True\n",
    "print(s.endswith(\"!\"))  # Output: True\n",
    "print(s.strip())  # Output: Hello, World! (removes leading and trailing whitespace)\n",
    "print(s.isalpha())  # Output: False (contains non-alphabetic characters)\n",
    "print(s.isalnum())  # Output: False (contains non-alphanumeric characters)\n",
    "print(s.isdigit())  # Output: False (contains non-digit characters)\n",
    "print(s.islower())  # Output: False (not all characters are lowercase)\n",
    "print(s.isupper())  # Output: False (not all characters are uppercase)\n",
    "print(s.title())  # Output: Hello, World! (capitalizes the first letter of each word)\n",
    "print(s.capitalize())  # Output: Hello, world! (capitalizes the first letter of the string)\n",
    "print(s.split())  # Output: ['Hello,', 'World!']\n",
    "print(s.join([\"Python\", \"is\", \"awesome\"]))  # Output: Python is awesome\n",
    "\n",
    "p = \"test string\"\n",
    "print(\"test\" in p) # Output: True (checks if \"test\" is a substring of p)\n",
    "# below you can iterate over each character in the string\n",
    "for c in p:\n",
    "    print(c)\n",
    "    \n",
    "# p[0] = \"T\"  # This will raise an error because strings are immutable in Python"
   ]
  },
  {
   "cell_type": "markdown",
   "id": "923f480e",
   "metadata": {},
   "source": [
    "# Tuples in python\n",
    "- Tupes in python are immutable\n",
    "\n",
    "- list : You need an array with dynamic size (mutable).\n",
    "- str : You work with text (immutable).\n",
    "- tuple : You want a fixed-size, immutable collection."
   ]
  },
  {
   "cell_type": "code",
   "execution_count": 23,
   "id": "35cee9eb",
   "metadata": {},
   "outputs": [
    {
     "name": "stdout",
     "output_type": "stream",
     "text": [
      "(1, 2, 3, 4, 5)\n",
      "1\n",
      "(2, 3)\n",
      "1\n",
      "2\n",
      "5\n"
     ]
    }
   ],
   "source": [
    "t = (1, 2, 3, 4, 5)\n",
    "print(t)\n",
    "print(t[0])  # Output: 1\n",
    "print(t[1:3])  # Output: (2, 3)\n",
    "print(t.count(2))  # Output: 1 (counts occurrences of 2)\n",
    "print(t.index(3))  # Output: 2 (index of the first occurrence of 3)\n",
    "print(len(t))  # Output: 5 (length of the tuple)\n",
    "# t[0] = 10  # This will raise an error because tuples are immutable\n"
   ]
  },
  {
   "cell_type": "markdown",
   "id": "b0e8f5e9",
   "metadata": {},
   "source": [
    "# How to deal with 2D array in python"
   ]
  },
  {
   "cell_type": "code",
   "execution_count": 27,
   "id": "99f9eb6c",
   "metadata": {},
   "outputs": [
    {
     "name": "stdout",
     "output_type": "stream",
     "text": [
      "[[1, 2, 3], [4, 5, 6], [7, 8, 9]]\n",
      "[1, 2, 3]\n",
      "6\n",
      "3\n",
      "3\n",
      "1 2 3 \n",
      "4 5 6 \n",
      "7 8 9 \n",
      "Element at (0, 0): 1\n",
      "Element at (0, 1): 2\n",
      "Element at (0, 2): 3\n",
      "Element at (1, 0): 4\n",
      "Element at (1, 1): 5\n",
      "Element at (1, 2): 6\n",
      "Element at (2, 0): 7\n",
      "Element at (2, 1): 8\n",
      "Element at (2, 2): 9\n",
      "[[0, 0, 0], [0, 0, 0], [0, 0, 0]]\n"
     ]
    }
   ],
   "source": [
    "matrix = [\n",
    "    [1, 2, 3],\n",
    "    [4, 5, 6],\n",
    "    [7, 8, 9]\n",
    "]\n",
    "\n",
    "print(matrix)\n",
    "print(matrix[0])  # Output: [1, 2, 3]\n",
    "print(matrix[1][2])  # Output: 6 (element at row 1 and column 2)\n",
    "print(len(matrix))  # Output: 3 (number of rows)\n",
    "print(len(matrix[0]))  # Output: 3 (number of columns in the first row)\n",
    "\n",
    "# matrix[0][1] = 10  # Update element at row 0, column 1\n",
    "\n",
    "# How to iterate over a 2D array\n",
    "for row in matrix:\n",
    "    for element in row:\n",
    "        print(element, end=' ')\n",
    "    print()  # New line after each row\n",
    "\n",
    "# how to iterate over a 2D array with index\n",
    "for i in range(len(matrix)):\n",
    "    for j in range(len(matrix[i])):\n",
    "        print(f\"Element at ({i}, {j}): {matrix[i][j]}\")\n",
    "\n",
    "# Create 2D matrix dynamically\n",
    "row, col = 3, 3\n",
    "matrix_dynamic = [[0 for _ in range(col)] for _ in range(row)]\n",
    "print(matrix_dynamic)  # Output: [[0, 0, 0], [0, 0, 0], [0, 0, 0]]\n"
   ]
  },
  {
   "cell_type": "markdown",
   "id": "0c9624ac",
   "metadata": {},
   "source": [
    "# DSA with python\n",
    "\n",
    "## Lets first understand how to deal with Set\n",
    "1. HashSet\n",
    "2. LinkedHashSet\n",
    "3. SortedSet\n",
    "    - TreeSet"
   ]
  },
  {
   "cell_type": "code",
   "execution_count": 1,
   "id": "821eb28f",
   "metadata": {},
   "outputs": [],
   "source": [
    "my_set = set() # Create only one time and make sure you dont run more than once in same session"
   ]
  },
  {
   "cell_type": "code",
   "execution_count": null,
   "id": "62dee3da",
   "metadata": {},
   "outputs": [
    {
     "name": "stdout",
     "output_type": "stream",
     "text": [
      "{'cherry', 'banana', 'apple'}\n",
      "{'cherry', 'apple'}\n",
      "apple is in the set\n",
      "banana is not in the set\n"
     ]
    }
   ],
   "source": [
    "# Python has built in Set capabilities like Java Set class\n",
    "\n",
    "my_set.add(\"apple\")\n",
    "my_set.add(\"banana\")\n",
    "my_set.add(\"cherry\")\n",
    "my_set.add(\"apple\")  # Duplicate, will not be added\n",
    "print(my_set)  # Output: {'banana', 'cherry', 'apple'}\n",
    "my_set.remove(\"banana\") # Remove an element\n",
    "print(my_set)  # Output: {'cherry', 'apple'}\n",
    "\n",
    "if \"apple\" in my_set:\n",
    "    print(\"apple is in the set\")\n",
    "    \n",
    "if \"banana\" not in my_set:\n",
    "    print(\"banana is not in the set\")"
   ]
  },
  {
   "cell_type": "code",
   "execution_count": 7,
   "id": "df61e77b",
   "metadata": {},
   "outputs": [
    {
     "name": "stdout",
     "output_type": "stream",
     "text": [
      "['cherry', 'banana', 'apple']\n",
      "['apple', 'banana', 'cherry']\n"
     ]
    }
   ],
   "source": [
    "# now create ordered set in python\n",
    "elements = [\"apple\", \"banana\", \"cherry\", \"apple\"]\n",
    "ordered_set = list(set(elements))  # This will remove duplicates but not maintain order\n",
    "print(ordered_set)  # Output: {'banana', 'cherry', 'apple'}\n",
    "\n",
    "linked_set = list(dict.fromkeys(elements))  # This will maintain order and remove duplicates\n",
    "print(linked_set)  # Output: ['apple', 'banana', 'cherry']"
   ]
  },
  {
   "cell_type": "code",
   "execution_count": 10,
   "id": "6f8e514c",
   "metadata": {},
   "outputs": [
    {
     "name": "stdout",
     "output_type": "stream",
     "text": [
      "['apple', 'banana', 'cherry']\n",
      "['apple', 'cherry']\n",
      "True\n"
     ]
    }
   ],
   "source": [
    "from collections import OrderedDict\n",
    "\n",
    "class LinkedHashSet:\n",
    "    def __init__(self):\n",
    "        self.data = OrderedDict()\n",
    "\n",
    "    def add(self, value):\n",
    "        self.data[value] = None  # Use None as a placeholder\n",
    "\n",
    "    def remove(self, value):\n",
    "        if value in self.data:\n",
    "            del self.data[value]\n",
    "\n",
    "    def contains(self, value):\n",
    "        return value in self.data\n",
    "\n",
    "    def __iter__(self):\n",
    "        return iter(self.data)\n",
    "    \n",
    "linkedHashSet = LinkedHashSet()\n",
    "linkedHashSet.add(\"apple\")\n",
    "linkedHashSet.add(\"banana\")\n",
    "linkedHashSet.add(\"cherry\")\n",
    "linkedHashSet.add(\"apple\")  # Duplicate, will not be added\n",
    "print(list(linkedHashSet))  # Output: ['apple', 'banana', 'cherry']\n",
    "linkedHashSet.remove(\"banana\")\n",
    "print(list(linkedHashSet))  # Output: ['apple', 'cherry']\n",
    "print(linkedHashSet.contains(\"apple\"))"
   ]
  }
 ],
 "metadata": {
  "kernelspec": {
   "display_name": "3.10.13",
   "language": "python",
   "name": "python3"
  },
  "language_info": {
   "codemirror_mode": {
    "name": "ipython",
    "version": 3
   },
   "file_extension": ".py",
   "mimetype": "text/x-python",
   "name": "python",
   "nbconvert_exporter": "python",
   "pygments_lexer": "ipython3",
   "version": "3.10.13"
  }
 },
 "nbformat": 4,
 "nbformat_minor": 5
}
