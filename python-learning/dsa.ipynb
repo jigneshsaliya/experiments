{
 "cells": [
  {
   "cell_type": "markdown",
   "id": "7a6e6719",
   "metadata": {},
   "source": [
    "# Python Array concept"
   ]
  },
  {
   "cell_type": "code",
   "execution_count": 16,
   "id": "ade967ea",
   "metadata": {},
   "outputs": [
    {
     "name": "stdout",
     "output_type": "stream",
     "text": [
      "[10, 20, 30, 40, 50]\n",
      "10\n",
      "[10, 20, 30, 40, 50, 60]\n",
      "6\n",
      "[100, 10, 20, 30, 40, 50, 60]\n",
      "[10, 20, 30, 40, 50, 60, 100]\n",
      "7\n"
     ]
    }
   ],
   "source": [
    "arr = [10, 20, 30, 40, 50]\n",
    "print(arr)\n",
    "print(arr[0])  # Output: 10\n",
    "arr.append(60)  # Add an element\n",
    "print(arr)  # Output: [10, 20, 30, 40, 50, 60]\n",
    "print(len(arr))  # Output: 6\n",
    "\n",
    "# arr[1] -> accessing the second element\n",
    "# arr[1] = 25  # Update the second element\n",
    "# print(arr)  # Output: [10, 25, 30, 40, 50, 60]\n",
    "# arr.append(70)  # Add another element\n",
    "# arr.insert(2, 35)  # Insert 35 at index 2\n",
    "# arr.remove(40)  # Remove the element 40\n",
    "# arr.pop() # Remove the last element\n",
    "# arr.pop(0) # Remove the first element\n",
    "# for x in arr: Loop through the array\n",
    "# arr[1:3] # Slicing the array to get elements from index 1 to 2 remember that the end index is exclusive\n",
    "# arr.sort()  # Sort the array in ascending order\n",
    "# arr.reverse()  # Reverse the array\n",
    "arr.insert(0, 100)\n",
    "print(arr)  # Output: [100, 10, 20, 30, 40, 50, 60]\n",
    "arr.sort()\n",
    "print(arr)\n",
    "# to find the length of the array \n",
    "print(len(arr))  # Output: 7"
   ]
  },
  {
   "cell_type": "markdown",
   "id": "66699dd5",
   "metadata": {},
   "source": [
    "# Lets learn more about string in python"
   ]
  },
  {
   "cell_type": "code",
   "execution_count": null,
   "id": "44f19c74",
   "metadata": {},
   "outputs": [
    {
     "name": "stdout",
     "output_type": "stream",
     "text": [
      "Hello, World!\n",
      "H\n",
      "World\n",
      "hello, world!\n",
      "HELLO, WORLD!\n",
      "Hello, Python!\n",
      "['Hello', 'World!']\n",
      "7\n",
      "7\n",
      "2\n",
      "True\n",
      "True\n",
      "Hello, World!\n",
      "False\n",
      "False\n",
      "False\n",
      "False\n",
      "False\n",
      "Hello, World!\n",
      "Hello, world!\n",
      "['Hello,', 'World!']\n",
      "PythonHello, World!isHello, World!awesome\n",
      "True\n",
      "t\n",
      "e\n",
      "s\n",
      "t\n",
      " \n",
      "s\n",
      "t\n",
      "r\n",
      "i\n",
      "n\n",
      "g\n"
     ]
    }
   ],
   "source": [
    "s = \"Hello, World!\"\n",
    "print(s)\n",
    "print(s[0])  # Output: H\n",
    "print(s[7:12])  # Output: World\n",
    "print(s.lower())  # Output: hello, world!\n",
    "print(s.upper())  # Output: HELLO, WORLD!\n",
    "print(s.replace(\"World\", \"Python\"))  # Output: Hello, Python!\n",
    "print(s.split(\", \"))  # Output: ['Hello', 'World!']\n",
    "print(s.find(\"World\"))  # Output: 7\n",
    "print(s.index(\"World\"))  # Output: 7\n",
    "print(s.count(\"o\"))  # Output: 2\n",
    "print(s.startswith(\"Hello\"))  # Output: True\n",
    "print(s.endswith(\"!\"))  # Output: True\n",
    "print(s.strip())  # Output: Hello, World! (removes leading and trailing whitespace)\n",
    "print(s.isalpha())  # Output: False (contains non-alphabetic characters)\n",
    "print(s.isalnum())  # Output: False (contains non-alphanumeric characters)\n",
    "print(s.isdigit())  # Output: False (contains non-digit characters)\n",
    "print(s.islower())  # Output: False (not all characters are lowercase)\n",
    "print(s.isupper())  # Output: False (not all characters are uppercase)\n",
    "print(s.title())  # Output: Hello, World! (capitalizes the first letter of each word)\n",
    "print(s.capitalize())  # Output: Hello, world! (capitalizes the first letter of the string)\n",
    "print(s.split())  # Output: ['Hello,', 'World!']\n",
    "print(s.join([\"Python\", \"is\", \"awesome\"]))  # Output: Python is awesome\n",
    "\n",
    "p = \"test string\"\n",
    "print(\"test\" in p) # Output: True (checks if \"test\" is a substring of p)\n",
    "# below you can iterate over each character in the string\n",
    "for c in p:\n",
    "    print(c)\n",
    "    \n",
    "# p[0] = \"T\"  # This will raise an error because strings are immutable in Python"
   ]
  },
  {
   "cell_type": "markdown",
   "id": "923f480e",
   "metadata": {},
   "source": [
    "# Tuples in python\n",
    "- Tupes in python are immutable\n",
    "\n",
    "- list : You need an array with dynamic size (mutable).\n",
    "- str : You work with text (immutable).\n",
    "- tuple : You want a fixed-size, immutable collection."
   ]
  },
  {
   "cell_type": "code",
   "execution_count": 23,
   "id": "35cee9eb",
   "metadata": {},
   "outputs": [
    {
     "name": "stdout",
     "output_type": "stream",
     "text": [
      "(1, 2, 3, 4, 5)\n",
      "1\n",
      "(2, 3)\n",
      "1\n",
      "2\n",
      "5\n"
     ]
    }
   ],
   "source": [
    "t = (1, 2, 3, 4, 5)\n",
    "print(t)\n",
    "print(t[0])  # Output: 1\n",
    "print(t[1:3])  # Output: (2, 3)\n",
    "print(t.count(2))  # Output: 1 (counts occurrences of 2)\n",
    "print(t.index(3))  # Output: 2 (index of the first occurrence of 3)\n",
    "print(len(t))  # Output: 5 (length of the tuple)\n",
    "# t[0] = 10  # This will raise an error because tuples are immutable\n"
   ]
  },
  {
   "cell_type": "markdown",
   "id": "b0e8f5e9",
   "metadata": {},
   "source": [
    "# How to deal with 2D array in python"
   ]
  },
  {
   "cell_type": "code",
   "execution_count": 27,
   "id": "99f9eb6c",
   "metadata": {},
   "outputs": [
    {
     "name": "stdout",
     "output_type": "stream",
     "text": [
      "[[1, 2, 3], [4, 5, 6], [7, 8, 9]]\n",
      "[1, 2, 3]\n",
      "6\n",
      "3\n",
      "3\n",
      "1 2 3 \n",
      "4 5 6 \n",
      "7 8 9 \n",
      "Element at (0, 0): 1\n",
      "Element at (0, 1): 2\n",
      "Element at (0, 2): 3\n",
      "Element at (1, 0): 4\n",
      "Element at (1, 1): 5\n",
      "Element at (1, 2): 6\n",
      "Element at (2, 0): 7\n",
      "Element at (2, 1): 8\n",
      "Element at (2, 2): 9\n",
      "[[0, 0, 0], [0, 0, 0], [0, 0, 0]]\n"
     ]
    }
   ],
   "source": [
    "matrix = [\n",
    "    [1, 2, 3],\n",
    "    [4, 5, 6],\n",
    "    [7, 8, 9]\n",
    "]\n",
    "\n",
    "print(matrix)\n",
    "print(matrix[0])  # Output: [1, 2, 3]\n",
    "print(matrix[1][2])  # Output: 6 (element at row 1 and column 2)\n",
    "print(len(matrix))  # Output: 3 (number of rows)\n",
    "print(len(matrix[0]))  # Output: 3 (number of columns in the first row)\n",
    "\n",
    "# matrix[0][1] = 10  # Update element at row 0, column 1\n",
    "\n",
    "# How to iterate over a 2D array\n",
    "for row in matrix:\n",
    "    for element in row:\n",
    "        print(element, end=' ')\n",
    "    print()  # New line after each row\n",
    "\n",
    "# how to iterate over a 2D array with index\n",
    "for i in range(len(matrix)):\n",
    "    for j in range(len(matrix[i])):\n",
    "        print(f\"Element at ({i}, {j}): {matrix[i][j]}\")\n",
    "\n",
    "# Create 2D matrix dynamically\n",
    "row, col = 3, 3\n",
    "matrix_dynamic = [[0 for _ in range(col)] for _ in range(row)]\n",
    "print(matrix_dynamic)  # Output: [[0, 0, 0], [0, 0, 0], [0, 0, 0]]\n"
   ]
  },
  {
   "cell_type": "markdown",
   "id": "0c9624ac",
   "metadata": {},
   "source": [
    "# DSA with python\n",
    "\n",
    "## Lets first understand how to deal with Set\n",
    "1. HashSet\n",
    "2. LinkedHashSet\n",
    "3. SortedSet\n",
    "    - TreeSet"
   ]
  },
  {
   "cell_type": "code",
   "execution_count": 1,
   "id": "821eb28f",
   "metadata": {},
   "outputs": [],
   "source": [
    "my_set = set() # Create only one time and make sure you dont run more than once in same session"
   ]
  },
  {
   "cell_type": "code",
   "execution_count": null,
   "id": "62dee3da",
   "metadata": {},
   "outputs": [
    {
     "name": "stdout",
     "output_type": "stream",
     "text": [
      "{'cherry', 'banana', 'apple'}\n",
      "{'cherry', 'apple'}\n",
      "apple is in the set\n",
      "banana is not in the set\n"
     ]
    }
   ],
   "source": [
    "# Python has built in Set capabilities like Java Set class\n",
    "\n",
    "my_set.add(\"apple\")\n",
    "my_set.add(\"banana\")\n",
    "my_set.add(\"cherry\")\n",
    "my_set.add(\"apple\")  # Duplicate, will not be added\n",
    "print(my_set)  # Output: {'banana', 'cherry', 'apple'}\n",
    "my_set.remove(\"banana\") # Remove an element\n",
    "print(my_set)  # Output: {'cherry', 'apple'}\n",
    "\n",
    "if \"apple\" in my_set:\n",
    "    print(\"apple is in the set\")\n",
    "    \n",
    "if \"banana\" not in my_set:\n",
    "    print(\"banana is not in the set\")"
   ]
  },
  {
   "cell_type": "code",
   "execution_count": 7,
   "id": "df61e77b",
   "metadata": {},
   "outputs": [
    {
     "name": "stdout",
     "output_type": "stream",
     "text": [
      "['cherry', 'banana', 'apple']\n",
      "['apple', 'banana', 'cherry']\n"
     ]
    }
   ],
   "source": [
    "# now create ordered set in python\n",
    "elements = [\"apple\", \"banana\", \"cherry\", \"apple\"]\n",
    "ordered_set = list(set(elements))  # This will remove duplicates but not maintain order\n",
    "print(ordered_set)  # Output: {'banana', 'cherry', 'apple'}\n",
    "\n",
    "linked_set = list(dict.fromkeys(elements))  # This will maintain order and remove duplicates\n",
    "print(linked_set)  # Output: ['apple', 'banana', 'cherry']"
   ]
  },
  {
   "cell_type": "code",
   "execution_count": 10,
   "id": "6f8e514c",
   "metadata": {},
   "outputs": [
    {
     "name": "stdout",
     "output_type": "stream",
     "text": [
      "['apple', 'banana', 'cherry']\n",
      "['apple', 'cherry']\n",
      "True\n"
     ]
    }
   ],
   "source": [
    "from collections import OrderedDict\n",
    "\n",
    "class LinkedHashSet:\n",
    "    def __init__(self):\n",
    "        self.data = OrderedDict()\n",
    "\n",
    "    def add(self, value):\n",
    "        self.data[value] = None  # Use None as a placeholder\n",
    "\n",
    "    def remove(self, value):\n",
    "        if value in self.data:\n",
    "            del self.data[value]\n",
    "\n",
    "    def contains(self, value):\n",
    "        return value in self.data\n",
    "\n",
    "    def __iter__(self):\n",
    "        return iter(self.data)\n",
    "    \n",
    "linkedHashSet = LinkedHashSet()\n",
    "linkedHashSet.add(\"apple\")\n",
    "linkedHashSet.add(\"banana\")\n",
    "linkedHashSet.add(\"cherry\")\n",
    "linkedHashSet.add(\"apple\")  # Duplicate, will not be added\n",
    "print(list(linkedHashSet))  # Output: ['apple', 'banana', 'cherry']\n",
    "linkedHashSet.remove(\"banana\")\n",
    "print(list(linkedHashSet))  # Output: ['apple', 'cherry']\n",
    "print(linkedHashSet.contains(\"apple\"))"
   ]
  },
  {
   "cell_type": "code",
   "execution_count": 30,
   "id": "da5f6ced",
   "metadata": {},
   "outputs": [
    {
     "name": "stdout",
     "output_type": "stream",
     "text": [
      "Looking in indexes: https://artifactory.foc.zone/artifactory/api/pypi/pypi-virtual/simple\n",
      "Requirement already satisfied: sortedcontainers in /Users/jsaliya/.pyenv/versions/3.10.13/lib/python3.10/site-packages (2.4.0)\n",
      "\n",
      "\u001b[1m[\u001b[0m\u001b[34;49mnotice\u001b[0m\u001b[1;39;49m]\u001b[0m\u001b[39;49m A new release of pip is available: \u001b[0m\u001b[31;49m23.0.1\u001b[0m\u001b[39;49m -> \u001b[0m\u001b[32;49m25.1.1\u001b[0m\n",
      "\u001b[1m[\u001b[0m\u001b[34;49mnotice\u001b[0m\u001b[1;39;49m]\u001b[0m\u001b[39;49m To update, run: \u001b[0m\u001b[32;49mpip install --upgrade pip\u001b[0m\n"
     ]
    }
   ],
   "source": [
    "!pip install sortedcontainers\n",
    "from sortedcontainers import SortedSet"
   ]
  },
  {
   "cell_type": "code",
   "execution_count": 31,
   "id": "e5f0dba6",
   "metadata": {},
   "outputs": [
    {
     "name": "stdout",
     "output_type": "stream",
     "text": [
      "10 is there\n",
      "0\n",
      "10\n",
      "25\n"
     ]
    }
   ],
   "source": [
    "# if you need to create a sorted set in python like in java \n",
    "from sortedcontainers import SortedSet  \n",
    "\n",
    "tree_set = SortedSet()\n",
    "tree_set.add(10)\n",
    "tree_set.add(25)\n",
    "tree_set.add(0)\n",
    "\n",
    "if 10 in tree_set:\n",
    "    print(\"10 is there\")\n",
    "\n",
    "for val in tree_set:\n",
    "    print(val)"
   ]
  },
  {
   "cell_type": "markdown",
   "id": "cdee4427",
   "metadata": {},
   "source": [
    "# Map \n",
    "- Map  \n",
    "    - HashTable\n",
    "    - LinkedHashMap\n",
    "    - HashMap\n",
    "- SortedMap\n",
    "    - TreeMap"
   ]
  },
  {
   "cell_type": "code",
   "execution_count": null,
   "id": "234066f1",
   "metadata": {},
   "outputs": [
    {
     "name": "stdout",
     "output_type": "stream",
     "text": [
      "{'apple': 1, 'banana': 2, 'cherry': 3}\n",
      "2\n",
      "Not Exitst\n",
      "dict_keys(['apple', 'banana', 'cherry'])\n",
      "dict_values([1, 2, 3])\n",
      "dict_items([('apple', 1), ('banana', 2), ('cherry', 3)])\n",
      "apple: 1\n",
      "banana: 2\n",
      "cherry: 3\n",
      "{'apple': 2, 'banana': 2, 'cherry': 3}\n",
      "3\n",
      "{}\n"
     ]
    }
   ],
   "source": [
    "# In python HashMap is equilent to dictionary in python\n",
    "my_map = dict()\n",
    "my_map[\"apple\"] = 1\n",
    "my_map[\"banana\"] = 2\n",
    "my_map[\"cherry\"] = 3\n",
    "print(my_map)  # Output: {'apple': 1, 'banana': 2, 'cherry': 3}\n",
    "print(my_map[\"banana\"])  # Output: 2\n",
    "print(my_map.get(\"temp\", \"Not Exitst\")) # Output: Not Exitst (default value if key not found)\n",
    "\n",
    "print(my_map.keys()) # Get all keys\n",
    "print(my_map.values()) # Get all values\n",
    "print(my_map.items()) # Get all key-value pairs    \n",
    "\n",
    "for key, value in my_map.items():\n",
    "    print(f\"{key}: {value}\")\n",
    "    \n",
    "my_map[\"apple\"] = my_map[\"apple\"] + 1  # Update value for key \"apple\"\n",
    "print(my_map)  # Output: {'apple': 2, 'banana': 2, 'cherry': 3}\n",
    "\n",
    "# to get length of the map\n",
    "print(len(my_map))  # Output: 3\n",
    "# to clear the map\n",
    "my_map.clear()\n",
    "print(my_map)  # Output: {}\n",
    "\n",
    "# LinkedHashMap in Python: Use dict (Python 3.7+)"
   ]
  },
  {
   "cell_type": "code",
   "execution_count": 41,
   "id": "a76f69d7",
   "metadata": {},
   "outputs": [
    {
     "name": "stdout",
     "output_type": "stream",
     "text": [
      "1 a\n",
      "2 b\n",
      "3 c\n",
      "1\n",
      "a\n",
      "(1, 'a')\n",
      "(3, 'c')\n"
     ]
    }
   ],
   "source": [
    "from sortedcontainers import SortedDict\n",
    "\n",
    "# 4. ✅ TreeMap in Python: Use SortedDict\n",
    "\n",
    "tree_map = SortedDict()\n",
    "tree_map[3] = \"c\"\n",
    "tree_map[1] = \"a\"\n",
    "tree_map[2] = \"b\"\n",
    "\n",
    "# Sorted by keys\n",
    "for k, v in tree_map.items():\n",
    "    print(k, v)  # Output: 1 a, 2 b, 3 c\n",
    "    \n",
    "# to pick the smallest key\n",
    "temp = tree_map.peekitem(0)\n",
    "\n",
    "print(temp[0]) # temp[0] : point to the key\n",
    "print(temp[1]) # temp[1] : point to the value\n",
    "print(tree_map.peekitem(0))  # Output: (1, 'a') - the smallest key-value pair\n",
    "\n",
    "# to pick the largest key\n",
    "print(tree_map.peekitem(-1))  # Output: (3, 'c') -"
   ]
  },
  {
   "cell_type": "code",
   "execution_count": 42,
   "id": "0aecfc0e",
   "metadata": {},
   "outputs": [
    {
     "name": "stdout",
     "output_type": "stream",
     "text": [
      "Key: 1, Value: 1\n",
      "Key: 2, Value: 2\n",
      "Key: 3, Value: 3\n",
      "Key: 1, Value: 1\n",
      "Key: 2, Value: 2\n",
      "Key: 3, Value: 3\n",
      "1 is in the map\n",
      "4 is not in the map\n"
     ]
    }
   ],
   "source": [
    "# how to iterate over the map\n",
    "\n",
    "temp_map = dict()\n",
    "temp_map[1] = 1\n",
    "temp_map[2] = 2\n",
    "temp_map[3] = 3\n",
    "\n",
    "# Iterating over the map using different methods\n",
    "for key in temp_map:\n",
    "    print(f\"Key: {key}, Value: {temp_map[key]}\")\n",
    "# using items() method\n",
    "for key, value in temp_map.items():\n",
    "    print(f\"Key: {key}, Value: {value}\")     \n",
    "    \n",
    "if 1 in temp_map:\n",
    "    print(\"1 is in the map\")\n",
    "\n",
    "if 4 not in temp_map:\n",
    "    print(\"4 is not in the map\")"
   ]
  },
  {
   "cell_type": "markdown",
   "id": "4fa8ad70",
   "metadata": {},
   "source": [
    "# Queue and Priority Queue\n",
    "- Queue\n",
    "    - Priority Queue \n",
    "- Deque\n",
    "    - ArrayDeque"
   ]
  },
  {
   "cell_type": "code",
   "execution_count": null,
   "id": "99868c8d",
   "metadata": {},
   "outputs": [
    {
     "name": "stdout",
     "output_type": "stream",
     "text": [
      "deque(['Eric', 'John', 'Michael', 'Terry'])\n",
      "deque(['Graham', 'Eric', 'John', 'Michael', 'Terry'])\n",
      "deque(['Eric', 'John', 'Michael', 'Terry'])\n",
      "deque(['Eric', 'John', 'Michael'])\n",
      "3\n",
      "1\n",
      "2\n",
      "None\n",
      "deque(['Eric', 'Michael'])\n"
     ]
    }
   ],
   "source": [
    "# Queue in Python: Use collections.deque\n",
    "# this is double ended queue, you can add and remove elements from both ends\n",
    "from collections import deque\n",
    "\n",
    "queue = deque([\"Eric\", \"John\", \"Michael\"])\n",
    "queue.append(\"Terry\")  # Add Terry to the end of the queue\n",
    "print(queue)  # Output: deque(['Eric', 'John', 'Michael', 'Terry'])\n",
    "queue.appendleft(\"Graham\")  # Add Graham to the front of the queue\n",
    "print(queue)  # Output: deque(['Graham', 'Eric', 'John', 'Michael', 'Terry'])\n",
    "\n",
    "queue.popleft()  # Remove the first element from the queue\n",
    "print(queue)  # Output: deque(['Eric', 'John', 'Michael', 'Terry']), the first element is popped\n",
    "queue.pop()  # Remove the last element from the queue\n",
    "print(queue)  # Output: deque(['Eric', 'John', 'Michael']), the last element is popped\n",
    "\n",
    "print(len(queue))  # Output: 3 (number of elements in the queue)\n",
    "print(queue.count(\"John\"))  # Output: 1 (count occurrences of \"John\")\n",
    "print(queue.index(\"Michael\"))  # Output: 2 (index of \"Michael\" in the queue)\n",
    "\n",
    "print(queue.remove(\"John\")) # Remove \"John\" from the queue\n",
    "print(queue)  # Output: deque(['Eric', 'Michael']), \"John\" is removed"
   ]
  },
  {
   "cell_type": "code",
   "execution_count": null,
   "id": "497ad569",
   "metadata": {},
   "outputs": [
    {
     "name": "stdout",
     "output_type": "stream",
     "text": [
      "<queue.Queue object at 0x106e2e770>\n",
      "1 2 3 \n",
      "3\n",
      "1\n",
      "2\n",
      "1\n",
      "3\n"
     ]
    }
   ],
   "source": [
    "from queue import Queue\n",
    "\n",
    "# this is a simple queue implementation in python, always push from the end and pop from the front\n",
    "q = Queue()\n",
    "q.put(1)  # Add an element to the end of the queue\n",
    "q.put(2) \n",
    "q.put(3)\n",
    "print(q)  # Output: <queue.Queue object at 0x...> (memory address)\n",
    "for item in list(q.queue):\n",
    "    print(item, end=\" \")  # Output: 1, 2, 3 (elements in the queue)\n",
    "print()  # New line for better readability\n",
    "print(q.qsize())  # Output: 3 (number of elements in the queue)\n",
    "print(q.get())  # Output: 1 (remove and return the first element)\n",
    "print(q.get())  # Output: 2 (remove and return the next element)\n",
    "print(q.qsize())  # Output: 1 (number of elements in the queue after two gets)\n",
    "print(q.get())  # Output: 3 (remove and return the last element)\n"
   ]
  },
  {
   "cell_type": "code",
   "execution_count": 52,
   "id": "fc743b50",
   "metadata": {},
   "outputs": [
    {
     "name": "stdout",
     "output_type": "stream",
     "text": [
      "Task: Task 1, Priority: 1\n",
      "Task: Task 2, Priority: 2\n",
      "Task: Task 3, Priority: 3\n",
      "===MAX HEAP===\n",
      "Task: Task 3, Priority: 3\n",
      "Task: Task 2, Priority: 2\n",
      "Task: Task 1, Priority: 1\n"
     ]
    }
   ],
   "source": [
    "# Priority Queue in Python: Use queue.PriorityQueue\n",
    "import heapq\n",
    "\n",
    "class Task:\n",
    "    def __init__(self, priority, name):\n",
    "        self.priority = priority\n",
    "        self.name = name\n",
    "\n",
    "    def __lt__(self, other):\n",
    "        return self.priority < other.priority\n",
    "pq = []\n",
    "heapq.heappush(pq, Task(2, \"Task 2\"))\n",
    "heapq.heappush(pq, Task(1, \"Task 1\"))\n",
    "heapq.heappush(pq, Task(3, \"Task 3\"))   \n",
    "while pq:\n",
    "    task = heapq.heappop(pq)\n",
    "    print(f\"Task: {task.name}, Priority: {task.priority}\")\n",
    "\n",
    "# By default heapq is a min heap, so the smallest element will be popped first\n",
    "# If you want to create a max heap, you can invert the priority value\n",
    "print(\"===MAX HEAP===\")\n",
    "pq_max = []\n",
    "heapq.heappush(pq_max, (-2, \"Task 2\"))\n",
    "heapq.heappush(pq_max, (-1, \"Task 1\"))\n",
    "heapq.heappush(pq_max, (-3, \"Task 3\"))\n",
    "while pq_max:\n",
    "    priority, task_name = heapq.heappop(pq_max)\n",
    "    print(f\"Task: {task_name}, Priority: {-priority}\")  # Invert priority back to original value"
   ]
  },
  {
   "cell_type": "code",
   "execution_count": 54,
   "id": "35e8a4b8",
   "metadata": {},
   "outputs": [
    {
     "name": "stdout",
     "output_type": "stream",
     "text": [
      "Task: Task 1, Priority: 1\n",
      "Task: Task 2, Priority: 2\n",
      "Task: Task 3, Priority: 3\n",
      "Task: Task 3, Priority: 3\n",
      "Task: Task 2, Priority: 2\n",
      "Task: Task 1, Priority: 1\n"
     ]
    }
   ],
   "source": [
    "from queue import PriorityQueue\n",
    "# Using PriorityQueue from the queue module\n",
    "pq = PriorityQueue()\n",
    "pq.put((2, \"Task 2\"))\n",
    "pq.put((1, \"Task 1\"))\n",
    "pq.put((3, \"Task 3\"))   \n",
    "while not pq.empty():\n",
    "    priority, task_name = pq.get()\n",
    "    print(f\"Task: {task_name}, Priority: {priority}\")\n",
    "\n",
    "# Max Heap using PriorityQueue \n",
    "pq_max = PriorityQueue()\n",
    "pq_max.put((-2, \"Task 2\"))\n",
    "pq_max.put((-1, \"Task 1\"))\n",
    "pq_max.put((-3, \"Task 3\"))\n",
    "while not pq_max.empty():\n",
    "    priority, task_name = pq_max.get()\n",
    "    print(f\"Task: {task_name}, Priority: {-priority}\")  # Invert priority back to original value"
   ]
  },
  {
   "cell_type": "code",
   "execution_count": null,
   "id": "6084b066",
   "metadata": {},
   "outputs": [
    {
     "name": "stdout",
     "output_type": "stream",
     "text": [
      "Task: Task 1, Priority: 1\n",
      "Task: Task 2, Priority: 2\n",
      "Task: Task 3, Priority: 3\n"
     ]
    }
   ],
   "source": [
    "import heapq\n",
    "\n",
    "class Task:\n",
    "    def __init__(self, priority, name):\n",
    "        self.priority = priority\n",
    "        self.name = name\n",
    "\n",
    "    def __lt__(self, other): # note here if you use lt here then our heap will be a min heap and if you use gt then it will be a max heap\n",
    "        # This method is used to compare two Task objects based on their priority\n",
    "        return self.priority < other.priority\n",
    "pq = []\n",
    "heapq.heappush(pq, Task(2, \"Task 2\"))\n",
    "heapq.heappush(pq, Task(1, \"Task 1\"))\n",
    "heapq.heappush(pq, Task(3, \"Task 3\"))   \n",
    "while pq:\n",
    "    task = heapq.heappop(pq)\n",
    "    print(f\"Task: {task.name}, Priority: {task.priority}\")"
   ]
  },
  {
   "cell_type": "markdown",
   "id": "28ef90bd",
   "metadata": {},
   "source": [
    "# List interface in java\n",
    "- List\n",
    "    - ArrayList\n",
    "    - LinkedList\n",
    "    - Vevtor\n",
    "        - Stack"
   ]
  },
  {
   "cell_type": "code",
   "execution_count": null,
   "id": "35c10177",
   "metadata": {},
   "outputs": [
    {
     "name": "stdout",
     "output_type": "stream",
     "text": [
      "Index: 0, Value: zpple\n",
      "Index: 1, Value: banana\n",
      "Index: 2, Value: cherry\n",
      "3\n",
      "5\n",
      "Sorted in reverse order:\n",
      "Index: 0, Value: zpple\n",
      "Index: 1, Value: banana\n",
      "Index: 2, Value: cherry\n",
      "Index: 3, Value: date\n",
      "Index: 4, Value: kiwi\n"
     ]
    }
   ],
   "source": [
    "# List in Python: Use list\n",
    "class MyList:\n",
    "    def __init__(self, index, value):\n",
    "        self.index = index\n",
    "        self.value = value\n",
    "        \n",
    "        \n",
    "my_list = [MyList(0, \"zpple\"), MyList(1, \"banana\"), MyList(2, \"cherry\")]\n",
    "for item in my_list:\n",
    "    print(f\"Index: {item.index}, Value: {item.value}\")\n",
    "\n",
    "print(len(my_list))  # Output: 3 (number of elements in the list)\n",
    "my_list.append(MyList(3, \"date\"))  # Add a new element to the list\n",
    "my_list.insert(1, MyList(4, \"kiwi\"))  # Insert a new element at index 1\n",
    "print(len(my_list))  # Output: 4 (number of elements in the list after adding a new element)\n",
    "\n",
    "# how to sort in reverse order\n",
    "my_list = sorted(my_list, key=lambda x: x.index, reverse=True)\n",
    "\n",
    "print(\"Sorted in reverse order:\")\n",
    "for item in my_list:\n",
    "    print(f\"Index: {item.index}, Value: {item.value}\")"
   ]
  },
  {
   "cell_type": "code",
   "execution_count": 74,
   "id": "3a96a7d1",
   "metadata": {},
   "outputs": [
    {
     "name": "stdout",
     "output_type": "stream",
     "text": [
      "deque(['Graham', 'Eric', 'John', 'Michael', 'Terry'])\n"
     ]
    }
   ],
   "source": [
    "# LinkedList in Python: Use collections.deque\n",
    "from collections import deque\n",
    "\n",
    "linked_list = deque([\"Eric\", \"John\", \"Michael\"])\n",
    "linked_list.append(\"Terry\")  # Add Terry to the end of the linked list\n",
    "linked_list.appendleft(\"Graham\")  # Add Graham to the front of the linked list\n",
    "print(linked_list)  # Output: deque(['Graham', 'Eric', 'John', 'Michael', 'Terry'])"
   ]
  },
  {
   "cell_type": "code",
   "execution_count": 77,
   "id": "42d8faef",
   "metadata": {},
   "outputs": [
    {
     "name": "stdout",
     "output_type": "stream",
     "text": [
      "Head\n",
      "Node 1\n",
      "Node 2\n"
     ]
    }
   ],
   "source": [
    "# Linked List in Python: Use collections.deque\n",
    "from collections import deque\n",
    "\n",
    "class Node:\n",
    "    def __init__(self, value):\n",
    "        self.value = value\n",
    "        self.next = None\n",
    "\n",
    "head = Node(\"Head\")\n",
    "head.next = Node(\"Node 1\")\n",
    "head.next.next = Node(\"Node 2\")\n",
    "current = head\n",
    "while current is not None:\n",
    "    print(current.value)\n",
    "    current = current.next\n"
   ]
  },
  {
   "cell_type": "code",
   "execution_count": 78,
   "id": "67d47cf1",
   "metadata": {},
   "outputs": [
    {
     "name": "stdout",
     "output_type": "stream",
     "text": [
      "[1, 2, 3]\n",
      "3\n",
      "[1, 2]\n",
      "2\n"
     ]
    }
   ],
   "source": [
    "stack = []\n",
    "stack.append(1)  # Push an element onto the stack\n",
    "stack.append(2)\n",
    "stack.append(3)\n",
    "print(stack)  # Output: [1, 2, 3]\n",
    "print(stack.pop())  # Output: 3 (remove and return the last element)\n",
    "print(stack)  # Output: [1, 2]\n",
    "print(stack[-1])  # Output: 2 (peek at the last element without removing\n",
    "\n"
   ]
  },
  {
   "cell_type": "code",
   "execution_count": 79,
   "id": "9769cf28",
   "metadata": {},
   "outputs": [
    {
     "name": "stdout",
     "output_type": "stream",
     "text": [
      "<queue.LifoQueue object at 0x106e296f0>\n",
      "3\n",
      "2\n",
      "1\n"
     ]
    }
   ],
   "source": [
    "from queue import LifoQueue\n",
    "\n",
    "stack = LifoQueue()\n",
    "stack.put(1)  # Push an element onto the stack\n",
    "stack.put(2)\n",
    "stack.put(3)\n",
    "\n",
    "print(stack)  # Output: <queue.LifoQueue object at 0x...> (memory address)\n",
    "print(stack.get())  # Output: 3 (remove and return the last element)\n",
    "print(stack.get())  # Output: 2 (remove and return the next element)\n",
    "print(stack.get())  # Output: 1 (remove and return the first element)   \n",
    "# Stack in Python: Use list or collections.deque\n"
   ]
  }
 ],
 "metadata": {
  "kernelspec": {
   "display_name": "3.10.13",
   "language": "python",
   "name": "python3"
  },
  "language_info": {
   "codemirror_mode": {
    "name": "ipython",
    "version": 3
   },
   "file_extension": ".py",
   "mimetype": "text/x-python",
   "name": "python",
   "nbconvert_exporter": "python",
   "pygments_lexer": "ipython3",
   "version": "3.10.13"
  }
 },
 "nbformat": 4,
 "nbformat_minor": 5
}
